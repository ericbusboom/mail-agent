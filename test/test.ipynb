{
 "cells": [
  {
   "cell_type": "code",
   "execution_count": 3,
   "id": "2e2338ac",
   "metadata": {},
   "outputs": [],
   "source": [
    "from mail_agent.app import init_app, MailAgentApp\n",
    "from mail_agent.models import User\n",
    "\n",
    "from mail_agent.cli import get_user_by_email\n"
   ]
  },
  {
   "cell_type": "code",
   "execution_count": null,
   "id": "199378a2",
   "metadata": {},
   "outputs": [
    {
     "data": {
      "text/plain": [
       "500"
      ]
     },
     "execution_count": 19,
     "metadata": {},
     "output_type": "execute_result"
    }
   ],
   "source": [
    "from mail_agent.gmail import Gmail\n",
    "\n",
    "app = init_app()\n",
    "\n",
    "with app.app_context():\n",
    "    user = get_user_by_email(app, '')\n",
    "    \n",
    "    gmail = Gmail(app, user.id)\n",
    "    emails = gmail.find_all_emails(max_results=500)\n",
    "        \n",
    "len(emails)"
   ]
  },
  {
   "cell_type": "code",
   "execution_count": 20,
   "id": "4b1ea5c1",
   "metadata": {},
   "outputs": [
    {
     "data": {
      "text/html": [
       "<div>\n",
       "<style scoped>\n",
       "    .dataframe tbody tr th:only-of-type {\n",
       "        vertical-align: middle;\n",
       "    }\n",
       "\n",
       "    .dataframe tbody tr th {\n",
       "        vertical-align: top;\n",
       "    }\n",
       "\n",
       "    .dataframe thead th {\n",
       "        text-align: right;\n",
       "    }\n",
       "</style>\n",
       "<table border=\"1\" class=\"dataframe\">\n",
       "  <thead>\n",
       "    <tr style=\"text-align: right;\">\n",
       "      <th></th>\n",
       "      <th>address</th>\n",
       "      <th>domain</th>\n",
       "    </tr>\n",
       "  </thead>\n",
       "  <tbody>\n",
       "    <tr>\n",
       "      <th>0</th>\n",
       "      <td>ads-account-noreply@google.com</td>\n",
       "      <td>google.com</td>\n",
       "    </tr>\n",
       "    <tr>\n",
       "      <th>1</th>\n",
       "      <td>jed.stumpf@jointheleague.org</td>\n",
       "      <td>jointheleague.org</td>\n",
       "    </tr>\n",
       "    <tr>\n",
       "      <th>2</th>\n",
       "      <td>kinnarip@hotmail.com</td>\n",
       "      <td>hotmail.com</td>\n",
       "    </tr>\n",
       "    <tr>\n",
       "      <th>3</th>\n",
       "      <td>scheduler-noreply@asynccomm.zoom.us</td>\n",
       "      <td>asynccomm.zoom.us</td>\n",
       "    </tr>\n",
       "    <tr>\n",
       "      <th>4</th>\n",
       "      <td>stephen@cbiinc.org</td>\n",
       "      <td>cbiinc.org</td>\n",
       "    </tr>\n",
       "    <tr>\n",
       "      <th>...</th>\n",
       "      <td>...</td>\n",
       "      <td>...</td>\n",
       "    </tr>\n",
       "    <tr>\n",
       "      <th>495</th>\n",
       "      <td>info@jointheleague.org</td>\n",
       "      <td>jointheleague.org</td>\n",
       "    </tr>\n",
       "    <tr>\n",
       "      <th>496</th>\n",
       "      <td>morrisgavin108@gmail.com</td>\n",
       "      <td>gmail.com</td>\n",
       "    </tr>\n",
       "    <tr>\n",
       "      <th>497</th>\n",
       "      <td>eric.busboom@jointheleague.org</td>\n",
       "      <td>jointheleague.org</td>\n",
       "    </tr>\n",
       "    <tr>\n",
       "      <th>498</th>\n",
       "      <td>eric.busboom@jointheleague.org</td>\n",
       "      <td>jointheleague.org</td>\n",
       "    </tr>\n",
       "    <tr>\n",
       "      <th>499</th>\n",
       "      <td>morrisgavin108@gmail.com</td>\n",
       "      <td>gmail.com</td>\n",
       "    </tr>\n",
       "  </tbody>\n",
       "</table>\n",
       "<p>500 rows × 2 columns</p>\n",
       "</div>"
      ],
      "text/plain": [
       "                                 address             domain\n",
       "0         ads-account-noreply@google.com         google.com\n",
       "1           jed.stumpf@jointheleague.org  jointheleague.org\n",
       "2                   kinnarip@hotmail.com        hotmail.com\n",
       "3    scheduler-noreply@asynccomm.zoom.us  asynccomm.zoom.us\n",
       "4                     stephen@cbiinc.org         cbiinc.org\n",
       "..                                   ...                ...\n",
       "495               info@jointheleague.org  jointheleague.org\n",
       "496             morrisgavin108@gmail.com          gmail.com\n",
       "497       eric.busboom@jointheleague.org  jointheleague.org\n",
       "498       eric.busboom@jointheleague.org  jointheleague.org\n",
       "499             morrisgavin108@gmail.com          gmail.com\n",
       "\n",
       "[500 rows x 2 columns]"
      ]
     },
     "execution_count": 20,
     "metadata": {},
     "output_type": "execute_result"
    }
   ],
   "source": [
    "import re\n",
    "import email\n",
    "import pandas as pd\n",
    "\n",
    "addrs = []\n",
    "for e in emails:\n",
    "\n",
    "    match = re.search(r'<([^>]+)>', e.sender)\n",
    "    if  match:\n",
    "        addr = match.group(1)\n",
    "    else:\n",
    "        addr = e.sender\n",
    "\n",
    "    domain = addr.split('@')[-1] if '@' in addr else ''\n",
    "\n",
    "    addrs.append({'address':addr,\n",
    "                  'domain':domain,\n",
    "                  })\n",
    "    \n",
    "df = pd.DataFrame(addrs)\n",
    "df"
   ]
  },
  {
   "cell_type": "code",
   "execution_count": 21,
   "id": "791c675b",
   "metadata": {},
   "outputs": [
    {
     "data": {
      "text/plain": [
       "domain\n",
       "jointheleague.org           177\n",
       "gmail.com                    48\n",
       "meetup.com                   30\n",
       "rnt.myworkplace.co           10\n",
       "hightechhigh.org             10\n",
       "                           ... \n",
       "openprimaries.org             1\n",
       "mail.beehiiv.com              1\n",
       "hisawyer.com                  1\n",
       "18650batterystore.com         1\n",
       "usesonarmentalhealth.com      1\n",
       "Name: count, Length: 102, dtype: int64"
      ]
     },
     "execution_count": 21,
     "metadata": {},
     "output_type": "execute_result"
    }
   ],
   "source": [
    "df.domain.value_counts()"
   ]
  },
  {
   "cell_type": "code",
   "execution_count": null,
   "id": "4ac1b82a",
   "metadata": {},
   "outputs": [],
   "source": []
  }
 ],
 "metadata": {
  "kernelspec": {
   "display_name": ".venv",
   "language": "python",
   "name": "python3"
  },
  "language_info": {
   "codemirror_mode": {
    "name": "ipython",
    "version": 3
   },
   "file_extension": ".py",
   "mimetype": "text/x-python",
   "name": "python",
   "nbconvert_exporter": "python",
   "pygments_lexer": "ipython3",
   "version": "3.13.3"
  }
 },
 "nbformat": 4,
 "nbformat_minor": 5
}
