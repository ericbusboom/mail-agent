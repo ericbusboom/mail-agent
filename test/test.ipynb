{
 "cells": [
  {
   "cell_type": "code",
   "execution_count": 1,
   "id": "2e2338ac",
   "metadata": {},
   "outputs": [],
   "source": [
    "%load_ext autoreload\n",
    "%autoreload 2\n",
    "from mail_agent.app import init_app, MailAgentApp\n",
    "from mail_agent.models import User\n",
    "from mail_agent.gmail import Gmail\n",
    "from mail_agent.cli import get_user_by_email\n"
   ]
  },
  {
   "cell_type": "code",
   "execution_count": 15,
   "id": "f2d6cfac",
   "metadata": {},
   "outputs": [
    {
     "name": "stdout",
     "output_type": "stream",
     "text": [
      "Current user status:\n",
      "- Has access token: True\n",
      "- Has refresh token: False\n",
      "\n",
      "⚠️  ISSUE: User has access token but no refresh token!\n",
      "This means the token will expire and cannot be refreshed.\n",
      "\n",
      "SOLUTION: User needs to re-authenticate to get a refresh token.\n",
      "Visit: http://localhost:5000/reauth\n"
     ]
    }
   ],
   "source": [
    "app = init_app()\n",
    "\n",
    "# Check if user needs re-authentication\n",
    "with app.app_context():\n",
    "    user = get_user_by_email(app, '')\n",
    "    \n",
    "    print(f\"Current user status:\")\n",
    "    print(f\"- Has access token: {bool(user.access_token)}\")\n",
    "    print(f\"- Has refresh token: {bool(user.refresh_token)}\")\n",
    "    \n",
    "    if user.access_token and not user.refresh_token:\n",
    "        print(\"\\n⚠️  ISSUE: User has access token but no refresh token!\")\n",
    "        print(\"This means the token will expire and cannot be refreshed.\")\n",
    "        print(\"\\nSOLUTION: User needs to re-authenticate to get a refresh token.\")\n",
    "        print(\"Visit: http://localhost:5000/reauth\")\n",
    "    elif user.refresh_token:\n",
    "        print(\"\\n✅ User has both access and refresh tokens - should work properly!\")\n",
    "    else:\n",
    "        print(\"\\n❌ User has no tokens - needs to authenticate first.\")\n",
    "        print(\"Visit: http://localhost:5000/login\")"
   ]
  },
  {
   "cell_type": "code",
   "execution_count": 18,
   "id": "5c7998ae",
   "metadata": {},
   "outputs": [
    {
     "data": {
      "text/plain": [
       "1000"
      ]
     },
     "execution_count": 18,
     "metadata": {},
     "output_type": "execute_result"
    }
   ],
   "source": [
    "\n",
    "with app.app_context():\n",
    "    user = get_user_by_email(app, '')\n",
    "    gmail = Gmail(app, user.id)\n",
    "    envs = gmail.fetch_envelopes(max_results=1000)\n",
    "        \n",
    "len(envs)"
   ]
  },
  {
   "cell_type": "code",
   "execution_count": null,
   "id": "006e1318",
   "metadata": {},
   "outputs": [
    {
     "data": {
      "text/plain": [
       "<GmailMessage id=196ffd319f98937d subject='Let's Encrypt certificate expiration notice for do...'>"
      ]
     },
     "execution_count": 19,
     "metadata": {},
     "output_type": "execute_result"
    }
   ],
   "source": []
  },
  {
   "cell_type": "code",
   "execution_count": 16,
   "id": "199378a2",
   "metadata": {},
   "outputs": [
    {
     "name": "stdout",
     "output_type": "stream",
     "text": [
      "<User eric.busboom@jointheleague.org>\n"
     ]
    },
    {
     "data": {
      "text/plain": [
       "1000"
      ]
     },
     "execution_count": 16,
     "metadata": {},
     "output_type": "execute_result"
    }
   ],
   "source": [
    "\n",
    "\n",
    "\n",
    "\n",
    "with app.app_context():\n",
    "    \n",
    "    print(user)\n",
    "    \n",
    "    gmail = Gmail(app, user.id)\n",
    "    emails = gmail.fetch_all(max_results=1000)\n",
    "        \n",
    "len(emails)"
   ]
  },
  {
   "cell_type": "code",
   "execution_count": 20,
   "id": "4b1ea5c1",
   "metadata": {},
   "outputs": [
    {
     "data": {
      "text/html": [
       "<div>\n",
       "<style scoped>\n",
       "    .dataframe tbody tr th:only-of-type {\n",
       "        vertical-align: middle;\n",
       "    }\n",
       "\n",
       "    .dataframe tbody tr th {\n",
       "        vertical-align: top;\n",
       "    }\n",
       "\n",
       "    .dataframe thead th {\n",
       "        text-align: right;\n",
       "    }\n",
       "</style>\n",
       "<table border=\"1\" class=\"dataframe\">\n",
       "  <thead>\n",
       "    <tr style=\"text-align: right;\">\n",
       "      <th></th>\n",
       "      <th>address</th>\n",
       "      <th>domain</th>\n",
       "    </tr>\n",
       "  </thead>\n",
       "  <tbody>\n",
       "    <tr>\n",
       "      <th>0</th>\n",
       "      <td>expiry@letsencrypt.org</td>\n",
       "      <td>letsencrypt.org</td>\n",
       "    </tr>\n",
       "    <tr>\n",
       "      <th>1</th>\n",
       "      <td>brittnesheim@gmail.com</td>\n",
       "      <td>gmail.com</td>\n",
       "    </tr>\n",
       "    <tr>\n",
       "      <th>2</th>\n",
       "      <td>eric.busboom@jointheleague.org</td>\n",
       "      <td>jointheleague.org</td>\n",
       "    </tr>\n",
       "    <tr>\n",
       "      <th>3</th>\n",
       "      <td>ads-account-noreply@google.com</td>\n",
       "      <td>google.com</td>\n",
       "    </tr>\n",
       "    <tr>\n",
       "      <th>4</th>\n",
       "      <td>jed.stumpf@jointheleague.org</td>\n",
       "      <td>jointheleague.org</td>\n",
       "    </tr>\n",
       "    <tr>\n",
       "      <th>...</th>\n",
       "      <td>...</td>\n",
       "      <td>...</td>\n",
       "    </tr>\n",
       "    <tr>\n",
       "      <th>995</th>\n",
       "      <td>account-services@inform.bill.com</td>\n",
       "      <td>inform.bill.com</td>\n",
       "    </tr>\n",
       "    <tr>\n",
       "      <th>996</th>\n",
       "      <td>mark.lantsberger@sdcoe.net</td>\n",
       "      <td>sdcoe.net</td>\n",
       "    </tr>\n",
       "    <tr>\n",
       "      <th>997</th>\n",
       "      <td>eric.busboom@jointheleague.org</td>\n",
       "      <td>jointheleague.org</td>\n",
       "    </tr>\n",
       "    <tr>\n",
       "      <th>998</th>\n",
       "      <td>mark.lantsberger@sdcoe.net</td>\n",
       "      <td>sdcoe.net</td>\n",
       "    </tr>\n",
       "    <tr>\n",
       "      <th>999</th>\n",
       "      <td>eric.busboom@jointheleague.org</td>\n",
       "      <td>jointheleague.org</td>\n",
       "    </tr>\n",
       "  </tbody>\n",
       "</table>\n",
       "<p>1000 rows × 2 columns</p>\n",
       "</div>"
      ],
      "text/plain": [
       "                              address             domain\n",
       "0              expiry@letsencrypt.org    letsencrypt.org\n",
       "1              brittnesheim@gmail.com          gmail.com\n",
       "2      eric.busboom@jointheleague.org  jointheleague.org\n",
       "3      ads-account-noreply@google.com         google.com\n",
       "4        jed.stumpf@jointheleague.org  jointheleague.org\n",
       "..                                ...                ...\n",
       "995  account-services@inform.bill.com    inform.bill.com\n",
       "996        mark.lantsberger@sdcoe.net          sdcoe.net\n",
       "997    eric.busboom@jointheleague.org  jointheleague.org\n",
       "998        mark.lantsberger@sdcoe.net          sdcoe.net\n",
       "999    eric.busboom@jointheleague.org  jointheleague.org\n",
       "\n",
       "[1000 rows x 2 columns]"
      ]
     },
     "execution_count": 20,
     "metadata": {},
     "output_type": "execute_result"
    }
   ],
   "source": [
    "import re\n",
    "import email\n",
    "import pandas as pd\n",
    "\n",
    "addrs = []\n",
    "for e in envs:\n",
    "\n",
    "    match = re.search(r'<([^>]+)>', e.sender)\n",
    "    if  match:\n",
    "        addr = match.group(1)\n",
    "    else:\n",
    "        addr = e.sender\n",
    "\n",
    "    domain = addr.split('@')[-1] if '@' in addr else ''\n",
    "\n",
    "    addrs.append({'address':addr,\n",
    "                  'domain':domain,\n",
    "                  })\n",
    "    \n",
    "df = pd.DataFrame(addrs)\n",
    "df"
   ]
  },
  {
   "cell_type": "code",
   "execution_count": 22,
   "id": "791c675b",
   "metadata": {},
   "outputs": [
    {
     "data": {
      "text/plain": [
       "domain\n",
       "jointheleague.org                 372\n",
       "gmail.com                         126\n",
       "meetup.com                         72\n",
       "hightechhigh.org                   17\n",
       "letsencrypt.org                    16\n",
       "hotmail.com                        16\n",
       "rnt.myworkplace.co                 16\n",
       "zoom.us                            14\n",
       "googlegroups.com                   14\n",
       "connectedcommunity.org             12\n",
       "promo.newegg.com                   10\n",
       "inform.bill.com                     8\n",
       "email.meetup.com                    8\n",
       "amazon.com                          8\n",
       "dochub.com                          8\n",
       "asynccomm.zoom.us                   8\n",
       "coder.build                         8\n",
       "medium.com                          7\n",
       "schettlermacy.com                   7\n",
       "discord.com                         7\n",
       "grantgopher.com                     7\n",
       "gusto.com                           6\n",
       "business.amazon.com                 6\n",
       "glassdoor.com                       6\n",
       "peachjar.com                        6\n",
       "udacity.com                         5\n",
       "grantimaharafoundation.org          5\n",
       "pacificcoastacademy.org             5\n",
       "csteachers.org                      4\n",
       "googlemail.com                      4\n",
       "fddexchange.com                     4\n",
       "email.upwork.com                    4\n",
       "google.com                          4\n",
       "littlekitchenacademy.com            4\n",
       "news-mail.elementor.com             4\n",
       "communityinterfaceservices.org      4\n",
       "sdrc.org                            4\n",
       "sdcoe.net                           4\n",
       "joinreachmarketinggrp.com           3\n",
       "elecfreaks.com                      3\n",
       "Name: count, dtype: int64"
      ]
     },
     "execution_count": 22,
     "metadata": {},
     "output_type": "execute_result"
    }
   ],
   "source": [
    "df.domain.value_counts().head(40)"
   ]
  },
  {
   "cell_type": "code",
   "execution_count": null,
   "id": "4ac1b82a",
   "metadata": {},
   "outputs": [],
   "source": []
  },
  {
   "cell_type": "code",
   "execution_count": 11,
   "id": "5a503cf6",
   "metadata": {},
   "outputs": [
    {
     "name": "stdout",
     "output_type": "stream",
     "text": [
      "Testing optimized fetch_envelopes (smaller batches)...\n"
     ]
    },
    {
     "name": "stderr",
     "output_type": "stream",
     "text": [
      "Failed to fetch message envelope 196ffd319f98937d: <HttpError 429 when requesting https://gmail.googleapis.com/gmail/v1/users/me/messages/196ffd319f98937d?format=metadata&metadataHeaders=From&metadataHeaders=To&metadataHeaders=Subject&metadataHeaders=Date&metadataHeaders=Message-ID&alt=json returned \"Too many concurrent requests for user.\". Details: \"[{'message': 'Too many concurrent requests for user.', 'domain': 'global', 'reason': 'rateLimitExceeded'}]\">\n",
      "Failed to fetch message envelope 196ffa0190c86db3: <HttpError 429 when requesting https://gmail.googleapis.com/gmail/v1/users/me/messages/196ffa0190c86db3?format=metadata&metadataHeaders=From&metadataHeaders=To&metadataHeaders=Subject&metadataHeaders=Date&metadataHeaders=Message-ID&alt=json returned \"Too many concurrent requests for user.\". Details: \"[{'message': 'Too many concurrent requests for user.', 'domain': 'global', 'reason': 'rateLimitExceeded'}]\">\n",
      "Failed to fetch message envelope 196ff5117e31fe4c: <HttpError 429 when requesting https://gmail.googleapis.com/gmail/v1/users/me/messages/196ff5117e31fe4c?format=metadata&metadataHeaders=From&metadataHeaders=To&metadataHeaders=Subject&metadataHeaders=Date&metadataHeaders=Message-ID&alt=json returned \"Too many concurrent requests for user.\". Details: \"[{'message': 'Too many concurrent requests for user.', 'domain': 'global', 'reason': 'rateLimitExceeded'}]\">\n",
      "Failed to fetch message envelope 196ff4a039028b26: <HttpError 429 when requesting https://gmail.googleapis.com/gmail/v1/users/me/messages/196ff4a039028b26?format=metadata&metadataHeaders=From&metadataHeaders=To&metadataHeaders=Subject&metadataHeaders=Date&metadataHeaders=Message-ID&alt=json returned \"Too many concurrent requests for user.\". Details: \"[{'message': 'Too many concurrent requests for user.', 'domain': 'global', 'reason': 'rateLimitExceeded'}]\">\n",
      "Failed to fetch message envelope 196ff42137092296: <HttpError 429 when requesting https://gmail.googleapis.com/gmail/v1/users/me/messages/196ff42137092296?format=metadata&metadataHeaders=From&metadataHeaders=To&metadataHeaders=Subject&metadataHeaders=Date&metadataHeaders=Message-ID&alt=json returned \"Too many concurrent requests for user.\". Details: \"[{'message': 'Too many concurrent requests for user.', 'domain': 'global', 'reason': 'rateLimitExceeded'}]\">\n",
      "Failed to fetch message envelope 196fe82e2e3be43b: <HttpError 429 when requesting https://gmail.googleapis.com/gmail/v1/users/me/messages/196fe82e2e3be43b?format=metadata&metadataHeaders=From&metadataHeaders=To&metadataHeaders=Subject&metadataHeaders=Date&metadataHeaders=Message-ID&alt=json returned \"Too many concurrent requests for user.\". Details: \"[{'message': 'Too many concurrent requests for user.', 'domain': 'global', 'reason': 'rateLimitExceeded'}]\">\n",
      "Failed to fetch message envelope 196fe64584051c14: <HttpError 429 when requesting https://gmail.googleapis.com/gmail/v1/users/me/messages/196fe64584051c14?format=metadata&metadataHeaders=From&metadataHeaders=To&metadataHeaders=Subject&metadataHeaders=Date&metadataHeaders=Message-ID&alt=json returned \"Too many concurrent requests for user.\". Details: \"[{'message': 'Too many concurrent requests for user.', 'domain': 'global', 'reason': 'rateLimitExceeded'}]\">\n",
      "Failed to fetch message envelope 196fe37012774fa0: <HttpError 429 when requesting https://gmail.googleapis.com/gmail/v1/users/me/messages/196fe37012774fa0?format=metadata&metadataHeaders=From&metadataHeaders=To&metadataHeaders=Subject&metadataHeaders=Date&metadataHeaders=Message-ID&alt=json returned \"Too many concurrent requests for user.\". Details: \"[{'message': 'Too many concurrent requests for user.', 'domain': 'global', 'reason': 'rateLimitExceeded'}]\">\n",
      "Failed to fetch message envelope 196fe180141e471d: <HttpError 429 when requesting https://gmail.googleapis.com/gmail/v1/users/me/messages/196fe180141e471d?format=metadata&metadataHeaders=From&metadataHeaders=To&metadataHeaders=Subject&metadataHeaders=Date&metadataHeaders=Message-ID&alt=json returned \"Too many concurrent requests for user.\". Details: \"[{'message': 'Too many concurrent requests for user.', 'domain': 'global', 'reason': 'rateLimitExceeded'}]\">\n",
      "Failed to fetch message envelope 196fdfc2167c5443: <HttpError 429 when requesting https://gmail.googleapis.com/gmail/v1/users/me/messages/196fdfc2167c5443?format=metadata&metadataHeaders=From&metadataHeaders=To&metadataHeaders=Subject&metadataHeaders=Date&metadataHeaders=Message-ID&alt=json returned \"Too many concurrent requests for user.\". Details: \"[{'message': 'Too many concurrent requests for user.', 'domain': 'global', 'reason': 'rateLimitExceeded'}]\">\n",
      "Failed to fetch message envelope 196fd781fd27341b: <HttpError 429 when requesting https://gmail.googleapis.com/gmail/v1/users/me/messages/196fd781fd27341b?format=metadata&metadataHeaders=From&metadataHeaders=To&metadataHeaders=Subject&metadataHeaders=Date&metadataHeaders=Message-ID&alt=json returned \"Too many concurrent requests for user.\". Details: \"[{'message': 'Too many concurrent requests for user.', 'domain': 'global', 'reason': 'rateLimitExceeded'}]\">\n",
      "Failed to fetch message envelope 196fd73bb26c7153: <HttpError 429 when requesting https://gmail.googleapis.com/gmail/v1/users/me/messages/196fd73bb26c7153?format=metadata&metadataHeaders=From&metadataHeaders=To&metadataHeaders=Subject&metadataHeaders=Date&metadataHeaders=Message-ID&alt=json returned \"Too many concurrent requests for user.\". Details: \"[{'message': 'Too many concurrent requests for user.', 'domain': 'global', 'reason': 'rateLimitExceeded'}]\">\n",
      "Failed to fetch message envelope 196fac14b6507057: <HttpError 429 when requesting https://gmail.googleapis.com/gmail/v1/users/me/messages/196fac14b6507057?format=metadata&metadataHeaders=From&metadataHeaders=To&metadataHeaders=Subject&metadataHeaders=Date&metadataHeaders=Message-ID&alt=json returned \"Too many concurrent requests for user.\". Details: \"[{'message': 'Too many concurrent requests for user.', 'domain': 'global', 'reason': 'rateLimitExceeded'}]\">\n",
      "Failed to fetch message envelope 196fa3c198cd4424: <HttpError 429 when requesting https://gmail.googleapis.com/gmail/v1/users/me/messages/196fa3c198cd4424?format=metadata&metadataHeaders=From&metadataHeaders=To&metadataHeaders=Subject&metadataHeaders=Date&metadataHeaders=Message-ID&alt=json returned \"Too many concurrent requests for user.\". Details: \"[{'message': 'Too many concurrent requests for user.', 'domain': 'global', 'reason': 'rateLimitExceeded'}]\">\n",
      "Failed to fetch message envelope 196fa0951a88d7ae: <HttpError 429 when requesting https://gmail.googleapis.com/gmail/v1/users/me/messages/196fa0951a88d7ae?format=metadata&metadataHeaders=From&metadataHeaders=To&metadataHeaders=Subject&metadataHeaders=Date&metadataHeaders=Message-ID&alt=json returned \"Too many concurrent requests for user.\". Details: \"[{'message': 'Too many concurrent requests for user.', 'domain': 'global', 'reason': 'rateLimitExceeded'}]\">\n",
      "Failed to fetch message envelope 196f8959f1ae1109: <HttpError 429 when requesting https://gmail.googleapis.com/gmail/v1/users/me/messages/196f8959f1ae1109?format=metadata&metadataHeaders=From&metadataHeaders=To&metadataHeaders=Subject&metadataHeaders=Date&metadataHeaders=Message-ID&alt=json returned \"Too many concurrent requests for user.\". Details: \"[{'message': 'Too many concurrent requests for user.', 'domain': 'global', 'reason': 'rateLimitExceeded'}]\">\n",
      "Failed to fetch message envelope 196f88e29be2529b: <HttpError 429 when requesting https://gmail.googleapis.com/gmail/v1/users/me/messages/196f88e29be2529b?format=metadata&metadataHeaders=From&metadataHeaders=To&metadataHeaders=Subject&metadataHeaders=Date&metadataHeaders=Message-ID&alt=json returned \"Too many concurrent requests for user.\". Details: \"[{'message': 'Too many concurrent requests for user.', 'domain': 'global', 'reason': 'rateLimitExceeded'}]\">\n",
      "Failed to fetch message envelope 196f889dd264d693: <HttpError 429 when requesting https://gmail.googleapis.com/gmail/v1/users/me/messages/196f889dd264d693?format=metadata&metadataHeaders=From&metadataHeaders=To&metadataHeaders=Subject&metadataHeaders=Date&metadataHeaders=Message-ID&alt=json returned \"Too many concurrent requests for user.\". Details: \"[{'message': 'Too many concurrent requests for user.', 'domain': 'global', 'reason': 'rateLimitExceeded'}]\">\n",
      "Failed to fetch message envelope 196f83bdbba56bd7: <HttpError 429 when requesting https://gmail.googleapis.com/gmail/v1/users/me/messages/196f83bdbba56bd7?format=metadata&metadataHeaders=From&metadataHeaders=To&metadataHeaders=Subject&metadataHeaders=Date&metadataHeaders=Message-ID&alt=json returned \"Too many concurrent requests for user.\". Details: \"[{'message': 'Too many concurrent requests for user.', 'domain': 'global', 'reason': 'rateLimitExceeded'}]\">\n",
      "Failed to fetch message envelope 196ffa0190c86db3: <HttpError 429 when requesting https://gmail.googleapis.com/gmail/v1/users/me/messages/196ffa0190c86db3?format=metadata&metadataHeaders=From&metadataHeaders=To&metadataHeaders=Subject&metadataHeaders=Date&metadataHeaders=Message-ID&alt=json returned \"Too many concurrent requests for user.\". Details: \"[{'message': 'Too many concurrent requests for user.', 'domain': 'global', 'reason': 'rateLimitExceeded'}]\">\n",
      "Failed to fetch message envelope 196ff5117e31fe4c: <HttpError 429 when requesting https://gmail.googleapis.com/gmail/v1/users/me/messages/196ff5117e31fe4c?format=metadata&metadataHeaders=From&metadataHeaders=To&metadataHeaders=Subject&metadataHeaders=Date&metadataHeaders=Message-ID&alt=json returned \"Too many concurrent requests for user.\". Details: \"[{'message': 'Too many concurrent requests for user.', 'domain': 'global', 'reason': 'rateLimitExceeded'}]\">\n",
      "Failed to fetch message envelope 196ff4a039028b26: <HttpError 429 when requesting https://gmail.googleapis.com/gmail/v1/users/me/messages/196ff4a039028b26?format=metadata&metadataHeaders=From&metadataHeaders=To&metadataHeaders=Subject&metadataHeaders=Date&metadataHeaders=Message-ID&alt=json returned \"Too many concurrent requests for user.\". Details: \"[{'message': 'Too many concurrent requests for user.', 'domain': 'global', 'reason': 'rateLimitExceeded'}]\">\n",
      "Failed to fetch message envelope 196ff42137092296: <HttpError 429 when requesting https://gmail.googleapis.com/gmail/v1/users/me/messages/196ff42137092296?format=metadata&metadataHeaders=From&metadataHeaders=To&metadataHeaders=Subject&metadataHeaders=Date&metadataHeaders=Message-ID&alt=json returned \"Too many concurrent requests for user.\". Details: \"[{'message': 'Too many concurrent requests for user.', 'domain': 'global', 'reason': 'rateLimitExceeded'}]\">\n",
      "Failed to fetch message envelope 196fe82e2e3be43b: <HttpError 429 when requesting https://gmail.googleapis.com/gmail/v1/users/me/messages/196fe82e2e3be43b?format=metadata&metadataHeaders=From&metadataHeaders=To&metadataHeaders=Subject&metadataHeaders=Date&metadataHeaders=Message-ID&alt=json returned \"Too many concurrent requests for user.\". Details: \"[{'message': 'Too many concurrent requests for user.', 'domain': 'global', 'reason': 'rateLimitExceeded'}]\">\n",
      "Failed to fetch message envelope 196fe64584051c14: <HttpError 429 when requesting https://gmail.googleapis.com/gmail/v1/users/me/messages/196fe64584051c14?format=metadata&metadataHeaders=From&metadataHeaders=To&metadataHeaders=Subject&metadataHeaders=Date&metadataHeaders=Message-ID&alt=json returned \"Too many concurrent requests for user.\". Details: \"[{'message': 'Too many concurrent requests for user.', 'domain': 'global', 'reason': 'rateLimitExceeded'}]\">\n",
      "Failed to fetch message envelope 196fe37012774fa0: <HttpError 429 when requesting https://gmail.googleapis.com/gmail/v1/users/me/messages/196fe37012774fa0?format=metadata&metadataHeaders=From&metadataHeaders=To&metadataHeaders=Subject&metadataHeaders=Date&metadataHeaders=Message-ID&alt=json returned \"Too many concurrent requests for user.\". Details: \"[{'message': 'Too many concurrent requests for user.', 'domain': 'global', 'reason': 'rateLimitExceeded'}]\">\n",
      "Failed to fetch message envelope 196fe180141e471d: <HttpError 429 when requesting https://gmail.googleapis.com/gmail/v1/users/me/messages/196fe180141e471d?format=metadata&metadataHeaders=From&metadataHeaders=To&metadataHeaders=Subject&metadataHeaders=Date&metadataHeaders=Message-ID&alt=json returned \"Too many concurrent requests for user.\". Details: \"[{'message': 'Too many concurrent requests for user.', 'domain': 'global', 'reason': 'rateLimitExceeded'}]\">\n",
      "Failed to fetch message envelope 196fdfc2167c5443: <HttpError 429 when requesting https://gmail.googleapis.com/gmail/v1/users/me/messages/196fdfc2167c5443?format=metadata&metadataHeaders=From&metadataHeaders=To&metadataHeaders=Subject&metadataHeaders=Date&metadataHeaders=Message-ID&alt=json returned \"Too many concurrent requests for user.\". Details: \"[{'message': 'Too many concurrent requests for user.', 'domain': 'global', 'reason': 'rateLimitExceeded'}]\">\n",
      "Failed to fetch message envelope 196fd781fd27341b: <HttpError 429 when requesting https://gmail.googleapis.com/gmail/v1/users/me/messages/196fd781fd27341b?format=metadata&metadataHeaders=From&metadataHeaders=To&metadataHeaders=Subject&metadataHeaders=Date&metadataHeaders=Message-ID&alt=json returned \"Too many concurrent requests for user.\". Details: \"[{'message': 'Too many concurrent requests for user.', 'domain': 'global', 'reason': 'rateLimitExceeded'}]\">\n",
      "Failed to fetch message envelope 196fd73bb26c7153: <HttpError 429 when requesting https://gmail.googleapis.com/gmail/v1/users/me/messages/196fd73bb26c7153?format=metadata&metadataHeaders=From&metadataHeaders=To&metadataHeaders=Subject&metadataHeaders=Date&metadataHeaders=Message-ID&alt=json returned \"Too many concurrent requests for user.\". Details: \"[{'message': 'Too many concurrent requests for user.', 'domain': 'global', 'reason': 'rateLimitExceeded'}]\">\n",
      "Failed to fetch message envelope 196fac14b6507057: <HttpError 429 when requesting https://gmail.googleapis.com/gmail/v1/users/me/messages/196fac14b6507057?format=metadata&metadataHeaders=From&metadataHeaders=To&metadataHeaders=Subject&metadataHeaders=Date&metadataHeaders=Message-ID&alt=json returned \"Too many concurrent requests for user.\". Details: \"[{'message': 'Too many concurrent requests for user.', 'domain': 'global', 'reason': 'rateLimitExceeded'}]\">\n",
      "Failed to fetch message envelope 196fa3c198cd4424: <HttpError 429 when requesting https://gmail.googleapis.com/gmail/v1/users/me/messages/196fa3c198cd4424?format=metadata&metadataHeaders=From&metadataHeaders=To&metadataHeaders=Subject&metadataHeaders=Date&metadataHeaders=Message-ID&alt=json returned \"Too many concurrent requests for user.\". Details: \"[{'message': 'Too many concurrent requests for user.', 'domain': 'global', 'reason': 'rateLimitExceeded'}]\">\n",
      "Failed to fetch message envelope 196fa0951a88d7ae: <HttpError 429 when requesting https://gmail.googleapis.com/gmail/v1/users/me/messages/196fa0951a88d7ae?format=metadata&metadataHeaders=From&metadataHeaders=To&metadataHeaders=Subject&metadataHeaders=Date&metadataHeaders=Message-ID&alt=json returned \"Too many concurrent requests for user.\". Details: \"[{'message': 'Too many concurrent requests for user.', 'domain': 'global', 'reason': 'rateLimitExceeded'}]\">\n",
      "Failed to fetch message envelope 196f8959f1ae1109: <HttpError 429 when requesting https://gmail.googleapis.com/gmail/v1/users/me/messages/196f8959f1ae1109?format=metadata&metadataHeaders=From&metadataHeaders=To&metadataHeaders=Subject&metadataHeaders=Date&metadataHeaders=Message-ID&alt=json returned \"Too many concurrent requests for user.\". Details: \"[{'message': 'Too many concurrent requests for user.', 'domain': 'global', 'reason': 'rateLimitExceeded'}]\">\n",
      "Failed to fetch message envelope 196f88e29be2529b: <HttpError 429 when requesting https://gmail.googleapis.com/gmail/v1/users/me/messages/196f88e29be2529b?format=metadata&metadataHeaders=From&metadataHeaders=To&metadataHeaders=Subject&metadataHeaders=Date&metadataHeaders=Message-ID&alt=json returned \"Too many concurrent requests for user.\". Details: \"[{'message': 'Too many concurrent requests for user.', 'domain': 'global', 'reason': 'rateLimitExceeded'}]\">\n",
      "Failed to fetch message envelope 196f889dd264d693: <HttpError 429 when requesting https://gmail.googleapis.com/gmail/v1/users/me/messages/196f889dd264d693?format=metadata&metadataHeaders=From&metadataHeaders=To&metadataHeaders=Subject&metadataHeaders=Date&metadataHeaders=Message-ID&alt=json returned \"Too many concurrent requests for user.\". Details: \"[{'message': 'Too many concurrent requests for user.', 'domain': 'global', 'reason': 'rateLimitExceeded'}]\">\n",
      "Failed to fetch message envelope 196f83bdbba56bd7: <HttpError 429 when requesting https://gmail.googleapis.com/gmail/v1/users/me/messages/196f83bdbba56bd7?format=metadata&metadataHeaders=From&metadataHeaders=To&metadataHeaders=Subject&metadataHeaders=Date&metadataHeaders=Message-ID&alt=json returned \"Too many concurrent requests for user.\". Details: \"[{'message': 'Too many concurrent requests for user.', 'domain': 'global', 'reason': 'rateLimitExceeded'}]\">\n",
      "Failed to fetch message envelope 196f81ce3b1b5c96: <HttpError 429 when requesting https://gmail.googleapis.com/gmail/v1/users/me/messages/196f81ce3b1b5c96?format=metadata&metadataHeaders=From&metadataHeaders=To&metadataHeaders=Subject&metadataHeaders=Date&metadataHeaders=Message-ID&alt=json returned \"Too many concurrent requests for user.\". Details: \"[{'message': 'Too many concurrent requests for user.', 'domain': 'global', 'reason': 'rateLimitExceeded'}]\">\n",
      "Failed to fetch message envelope 196f81ce3b1b5c96: <HttpError 429 when requesting https://gmail.googleapis.com/gmail/v1/users/me/messages/196f81ce3b1b5c96?format=metadata&metadataHeaders=From&metadataHeaders=To&metadataHeaders=Subject&metadataHeaders=Date&metadataHeaders=Message-ID&alt=json returned \"Too many concurrent requests for user.\". Details: \"[{'message': 'Too many concurrent requests for user.', 'domain': 'global', 'reason': 'rateLimitExceeded'}]\">\n",
      "Failed to fetch message envelope 196f7e85bf293e41: <HttpError 429 when requesting https://gmail.googleapis.com/gmail/v1/users/me/messages/196f7e85bf293e41?format=metadata&metadataHeaders=From&metadataHeaders=To&metadataHeaders=Subject&metadataHeaders=Date&metadataHeaders=Message-ID&alt=json returned \"Too many concurrent requests for user.\". Details: \"[{'message': 'Too many concurrent requests for user.', 'domain': 'global', 'reason': 'rateLimitExceeded'}]\">\n",
      "Failed to fetch message envelope 196f6cce622614a7: <HttpError 429 when requesting https://gmail.googleapis.com/gmail/v1/users/me/messages/196f6cce622614a7?format=metadata&metadataHeaders=From&metadataHeaders=To&metadataHeaders=Subject&metadataHeaders=Date&metadataHeaders=Message-ID&alt=json returned \"Too many concurrent requests for user.\". Details: \"[{'message': 'Too many concurrent requests for user.', 'domain': 'global', 'reason': 'rateLimitExceeded'}]\">\n",
      "Failed to fetch message envelope 196f638d9831ec5a: <HttpError 429 when requesting https://gmail.googleapis.com/gmail/v1/users/me/messages/196f638d9831ec5a?format=metadata&metadataHeaders=From&metadataHeaders=To&metadataHeaders=Subject&metadataHeaders=Date&metadataHeaders=Message-ID&alt=json returned \"Too many concurrent requests for user.\". Details: \"[{'message': 'Too many concurrent requests for user.', 'domain': 'global', 'reason': 'rateLimitExceeded'}]\">\n",
      "Failed to fetch message envelope 196f6370c3c9c261: <HttpError 429 when requesting https://gmail.googleapis.com/gmail/v1/users/me/messages/196f6370c3c9c261?format=metadata&metadataHeaders=From&metadataHeaders=To&metadataHeaders=Subject&metadataHeaders=Date&metadataHeaders=Message-ID&alt=json returned \"Too many concurrent requests for user.\". Details: \"[{'message': 'Too many concurrent requests for user.', 'domain': 'global', 'reason': 'rateLimitExceeded'}]\">\n",
      "Failed to fetch message envelope 196f63615c734b8a: <HttpError 429 when requesting https://gmail.googleapis.com/gmail/v1/users/me/messages/196f63615c734b8a?format=metadata&metadataHeaders=From&metadataHeaders=To&metadataHeaders=Subject&metadataHeaders=Date&metadataHeaders=Message-ID&alt=json returned \"Too many concurrent requests for user.\". Details: \"[{'message': 'Too many concurrent requests for user.', 'domain': 'global', 'reason': 'rateLimitExceeded'}]\">\n",
      "Failed to fetch message envelope 196f5fb1e15bf944: <HttpError 429 when requesting https://gmail.googleapis.com/gmail/v1/users/me/messages/196f5fb1e15bf944?format=metadata&metadataHeaders=From&metadataHeaders=To&metadataHeaders=Subject&metadataHeaders=Date&metadataHeaders=Message-ID&alt=json returned \"Too many concurrent requests for user.\". Details: \"[{'message': 'Too many concurrent requests for user.', 'domain': 'global', 'reason': 'rateLimitExceeded'}]\">\n",
      "Failed to fetch message envelope 196f5b5f3b3ff2c7: <HttpError 429 when requesting https://gmail.googleapis.com/gmail/v1/users/me/messages/196f5b5f3b3ff2c7?format=metadata&metadataHeaders=From&metadataHeaders=To&metadataHeaders=Subject&metadataHeaders=Date&metadataHeaders=Message-ID&alt=json returned \"Too many concurrent requests for user.\". Details: \"[{'message': 'Too many concurrent requests for user.', 'domain': 'global', 'reason': 'rateLimitExceeded'}]\">\n",
      "Failed to fetch message envelope 196f50bb23ed382e: <HttpError 429 when requesting https://gmail.googleapis.com/gmail/v1/users/me/messages/196f50bb23ed382e?format=metadata&metadataHeaders=From&metadataHeaders=To&metadataHeaders=Subject&metadataHeaders=Date&metadataHeaders=Message-ID&alt=json returned \"Too many concurrent requests for user.\". Details: \"[{'message': 'Too many concurrent requests for user.', 'domain': 'global', 'reason': 'rateLimitExceeded'}]\">\n",
      "Failed to fetch message envelope 196f4a44cb10d316: <HttpError 429 when requesting https://gmail.googleapis.com/gmail/v1/users/me/messages/196f4a44cb10d316?format=metadata&metadataHeaders=From&metadataHeaders=To&metadataHeaders=Subject&metadataHeaders=Date&metadataHeaders=Message-ID&alt=json returned \"Too many concurrent requests for user.\". Details: \"[{'message': 'Too many concurrent requests for user.', 'domain': 'global', 'reason': 'rateLimitExceeded'}]\">\n",
      "Failed to fetch message envelope 196f48bccf11c547: <HttpError 429 when requesting https://gmail.googleapis.com/gmail/v1/users/me/messages/196f48bccf11c547?format=metadata&metadataHeaders=From&metadataHeaders=To&metadataHeaders=Subject&metadataHeaders=Date&metadataHeaders=Message-ID&alt=json returned \"Too many concurrent requests for user.\". Details: \"[{'message': 'Too many concurrent requests for user.', 'domain': 'global', 'reason': 'rateLimitExceeded'}]\">\n",
      "Failed to fetch message envelope 196f47f155188001: <HttpError 429 when requesting https://gmail.googleapis.com/gmail/v1/users/me/messages/196f47f155188001?format=metadata&metadataHeaders=From&metadataHeaders=To&metadataHeaders=Subject&metadataHeaders=Date&metadataHeaders=Message-ID&alt=json returned \"Too many concurrent requests for user.\". Details: \"[{'message': 'Too many concurrent requests for user.', 'domain': 'global', 'reason': 'rateLimitExceeded'}]\">\n",
      "Failed to fetch message envelope 196f42c909c7515a: <HttpError 429 when requesting https://gmail.googleapis.com/gmail/v1/users/me/messages/196f42c909c7515a?format=metadata&metadataHeaders=From&metadataHeaders=To&metadataHeaders=Subject&metadataHeaders=Date&metadataHeaders=Message-ID&alt=json returned \"Too many concurrent requests for user.\". Details: \"[{'message': 'Too many concurrent requests for user.', 'domain': 'global', 'reason': 'rateLimitExceeded'}]\">\n",
      "Failed to fetch message envelope 196f3be45e771903: <HttpError 429 when requesting https://gmail.googleapis.com/gmail/v1/users/me/messages/196f3be45e771903?format=metadata&metadataHeaders=From&metadataHeaders=To&metadataHeaders=Subject&metadataHeaders=Date&metadataHeaders=Message-ID&alt=json returned \"Too many concurrent requests for user.\". Details: \"[{'message': 'Too many concurrent requests for user.', 'domain': 'global', 'reason': 'rateLimitExceeded'}]\">\n",
      "Failed to fetch message envelope 196f2f92b927ad4d: <HttpError 429 when requesting https://gmail.googleapis.com/gmail/v1/users/me/messages/196f2f92b927ad4d?format=metadata&metadataHeaders=From&metadataHeaders=To&metadataHeaders=Subject&metadataHeaders=Date&metadataHeaders=Message-ID&alt=json returned \"Too many concurrent requests for user.\". Details: \"[{'message': 'Too many concurrent requests for user.', 'domain': 'global', 'reason': 'rateLimitExceeded'}]\">\n",
      "Failed to fetch message envelope 196f20fc459720a2: <HttpError 429 when requesting https://gmail.googleapis.com/gmail/v1/users/me/messages/196f20fc459720a2?format=metadata&metadataHeaders=From&metadataHeaders=To&metadataHeaders=Subject&metadataHeaders=Date&metadataHeaders=Message-ID&alt=json returned \"Too many concurrent requests for user.\". Details: \"[{'message': 'Too many concurrent requests for user.', 'domain': 'global', 'reason': 'rateLimitExceeded'}]\">\n",
      "Failed to fetch message envelope 196f1135e1478ba9: <HttpError 429 when requesting https://gmail.googleapis.com/gmail/v1/users/me/messages/196f1135e1478ba9?format=metadata&metadataHeaders=From&metadataHeaders=To&metadataHeaders=Subject&metadataHeaders=Date&metadataHeaders=Message-ID&alt=json returned \"Too many concurrent requests for user.\". Details: \"[{'message': 'Too many concurrent requests for user.', 'domain': 'global', 'reason': 'rateLimitExceeded'}]\">\n",
      "Failed to fetch message envelope 196f0bc6ff255d35: <HttpError 429 when requesting https://gmail.googleapis.com/gmail/v1/users/me/messages/196f0bc6ff255d35?format=metadata&metadataHeaders=From&metadataHeaders=To&metadataHeaders=Subject&metadataHeaders=Date&metadataHeaders=Message-ID&alt=json returned \"Too many concurrent requests for user.\". Details: \"[{'message': 'Too many concurrent requests for user.', 'domain': 'global', 'reason': 'rateLimitExceeded'}]\">\n",
      "Failed to fetch message envelope 196f0a5c9a5719df: <HttpError 429 when requesting https://gmail.googleapis.com/gmail/v1/users/me/messages/196f0a5c9a5719df?format=metadata&metadataHeaders=From&metadataHeaders=To&metadataHeaders=Subject&metadataHeaders=Date&metadataHeaders=Message-ID&alt=json returned \"Too many concurrent requests for user.\". Details: \"[{'message': 'Too many concurrent requests for user.', 'domain': 'global', 'reason': 'rateLimitExceeded'}]\">\n",
      "Failed to fetch message envelope 196f08ca6fd692f8: <HttpError 429 when requesting https://gmail.googleapis.com/gmail/v1/users/me/messages/196f08ca6fd692f8?format=metadata&metadataHeaders=From&metadataHeaders=To&metadataHeaders=Subject&metadataHeaders=Date&metadataHeaders=Message-ID&alt=json returned \"Too many concurrent requests for user.\". Details: \"[{'message': 'Too many concurrent requests for user.', 'domain': 'global', 'reason': 'rateLimitExceeded'}]\">\n",
      "Failed to fetch message envelope 196f023651e05746: <HttpError 429 when requesting https://gmail.googleapis.com/gmail/v1/users/me/messages/196f023651e05746?format=metadata&metadataHeaders=From&metadataHeaders=To&metadataHeaders=Subject&metadataHeaders=Date&metadataHeaders=Message-ID&alt=json returned \"Too many concurrent requests for user.\". Details: \"[{'message': 'Too many concurrent requests for user.', 'domain': 'global', 'reason': 'rateLimitExceeded'}]\">\n",
      "Failed to fetch message envelope 196f014c90a3a43b: <HttpError 429 when requesting https://gmail.googleapis.com/gmail/v1/users/me/messages/196f014c90a3a43b?format=metadata&metadataHeaders=From&metadataHeaders=To&metadataHeaders=Subject&metadataHeaders=Date&metadataHeaders=Message-ID&alt=json returned \"Too many concurrent requests for user.\". Details: \"[{'message': 'Too many concurrent requests for user.', 'domain': 'global', 'reason': 'rateLimitExceeded'}]\">\n",
      "Failed to fetch message envelope 196f7e85bf293e41: <HttpError 429 when requesting https://gmail.googleapis.com/gmail/v1/users/me/messages/196f7e85bf293e41?format=metadata&metadataHeaders=From&metadataHeaders=To&metadataHeaders=Subject&metadataHeaders=Date&metadataHeaders=Message-ID&alt=json returned \"Too many concurrent requests for user.\". Details: \"[{'message': 'Too many concurrent requests for user.', 'domain': 'global', 'reason': 'rateLimitExceeded'}]\">\n",
      "Failed to fetch message envelope 196f6cce622614a7: <HttpError 429 when requesting https://gmail.googleapis.com/gmail/v1/users/me/messages/196f6cce622614a7?format=metadata&metadataHeaders=From&metadataHeaders=To&metadataHeaders=Subject&metadataHeaders=Date&metadataHeaders=Message-ID&alt=json returned \"Too many concurrent requests for user.\". Details: \"[{'message': 'Too many concurrent requests for user.', 'domain': 'global', 'reason': 'rateLimitExceeded'}]\">\n",
      "Failed to fetch message envelope 196f638d9831ec5a: <HttpError 429 when requesting https://gmail.googleapis.com/gmail/v1/users/me/messages/196f638d9831ec5a?format=metadata&metadataHeaders=From&metadataHeaders=To&metadataHeaders=Subject&metadataHeaders=Date&metadataHeaders=Message-ID&alt=json returned \"Too many concurrent requests for user.\". Details: \"[{'message': 'Too many concurrent requests for user.', 'domain': 'global', 'reason': 'rateLimitExceeded'}]\">\n",
      "Failed to fetch message envelope 196f6370c3c9c261: <HttpError 429 when requesting https://gmail.googleapis.com/gmail/v1/users/me/messages/196f6370c3c9c261?format=metadata&metadataHeaders=From&metadataHeaders=To&metadataHeaders=Subject&metadataHeaders=Date&metadataHeaders=Message-ID&alt=json returned \"Too many concurrent requests for user.\". Details: \"[{'message': 'Too many concurrent requests for user.', 'domain': 'global', 'reason': 'rateLimitExceeded'}]\">\n",
      "Failed to fetch message envelope 196f63615c734b8a: <HttpError 429 when requesting https://gmail.googleapis.com/gmail/v1/users/me/messages/196f63615c734b8a?format=metadata&metadataHeaders=From&metadataHeaders=To&metadataHeaders=Subject&metadataHeaders=Date&metadataHeaders=Message-ID&alt=json returned \"Too many concurrent requests for user.\". Details: \"[{'message': 'Too many concurrent requests for user.', 'domain': 'global', 'reason': 'rateLimitExceeded'}]\">\n",
      "Failed to fetch message envelope 196f5fb1e15bf944: <HttpError 429 when requesting https://gmail.googleapis.com/gmail/v1/users/me/messages/196f5fb1e15bf944?format=metadata&metadataHeaders=From&metadataHeaders=To&metadataHeaders=Subject&metadataHeaders=Date&metadataHeaders=Message-ID&alt=json returned \"Too many concurrent requests for user.\". Details: \"[{'message': 'Too many concurrent requests for user.', 'domain': 'global', 'reason': 'rateLimitExceeded'}]\">\n",
      "Failed to fetch message envelope 196f5b5f3b3ff2c7: <HttpError 429 when requesting https://gmail.googleapis.com/gmail/v1/users/me/messages/196f5b5f3b3ff2c7?format=metadata&metadataHeaders=From&metadataHeaders=To&metadataHeaders=Subject&metadataHeaders=Date&metadataHeaders=Message-ID&alt=json returned \"Too many concurrent requests for user.\". Details: \"[{'message': 'Too many concurrent requests for user.', 'domain': 'global', 'reason': 'rateLimitExceeded'}]\">\n",
      "Failed to fetch message envelope 196f50bb23ed382e: <HttpError 429 when requesting https://gmail.googleapis.com/gmail/v1/users/me/messages/196f50bb23ed382e?format=metadata&metadataHeaders=From&metadataHeaders=To&metadataHeaders=Subject&metadataHeaders=Date&metadataHeaders=Message-ID&alt=json returned \"Too many concurrent requests for user.\". Details: \"[{'message': 'Too many concurrent requests for user.', 'domain': 'global', 'reason': 'rateLimitExceeded'}]\">\n",
      "Failed to fetch message envelope 196f4a44cb10d316: <HttpError 429 when requesting https://gmail.googleapis.com/gmail/v1/users/me/messages/196f4a44cb10d316?format=metadata&metadataHeaders=From&metadataHeaders=To&metadataHeaders=Subject&metadataHeaders=Date&metadataHeaders=Message-ID&alt=json returned \"Too many concurrent requests for user.\". Details: \"[{'message': 'Too many concurrent requests for user.', 'domain': 'global', 'reason': 'rateLimitExceeded'}]\">\n",
      "Failed to fetch message envelope 196f48bccf11c547: <HttpError 429 when requesting https://gmail.googleapis.com/gmail/v1/users/me/messages/196f48bccf11c547?format=metadata&metadataHeaders=From&metadataHeaders=To&metadataHeaders=Subject&metadataHeaders=Date&metadataHeaders=Message-ID&alt=json returned \"Too many concurrent requests for user.\". Details: \"[{'message': 'Too many concurrent requests for user.', 'domain': 'global', 'reason': 'rateLimitExceeded'}]\">\n",
      "Failed to fetch message envelope 196f47f155188001: <HttpError 429 when requesting https://gmail.googleapis.com/gmail/v1/users/me/messages/196f47f155188001?format=metadata&metadataHeaders=From&metadataHeaders=To&metadataHeaders=Subject&metadataHeaders=Date&metadataHeaders=Message-ID&alt=json returned \"Too many concurrent requests for user.\". Details: \"[{'message': 'Too many concurrent requests for user.', 'domain': 'global', 'reason': 'rateLimitExceeded'}]\">\n",
      "Failed to fetch message envelope 196f42c909c7515a: <HttpError 429 when requesting https://gmail.googleapis.com/gmail/v1/users/me/messages/196f42c909c7515a?format=metadata&metadataHeaders=From&metadataHeaders=To&metadataHeaders=Subject&metadataHeaders=Date&metadataHeaders=Message-ID&alt=json returned \"Too many concurrent requests for user.\". Details: \"[{'message': 'Too many concurrent requests for user.', 'domain': 'global', 'reason': 'rateLimitExceeded'}]\">\n",
      "Failed to fetch message envelope 196f3be45e771903: <HttpError 429 when requesting https://gmail.googleapis.com/gmail/v1/users/me/messages/196f3be45e771903?format=metadata&metadataHeaders=From&metadataHeaders=To&metadataHeaders=Subject&metadataHeaders=Date&metadataHeaders=Message-ID&alt=json returned \"Too many concurrent requests for user.\". Details: \"[{'message': 'Too many concurrent requests for user.', 'domain': 'global', 'reason': 'rateLimitExceeded'}]\">\n",
      "Failed to fetch message envelope 196f2f92b927ad4d: <HttpError 429 when requesting https://gmail.googleapis.com/gmail/v1/users/me/messages/196f2f92b927ad4d?format=metadata&metadataHeaders=From&metadataHeaders=To&metadataHeaders=Subject&metadataHeaders=Date&metadataHeaders=Message-ID&alt=json returned \"Too many concurrent requests for user.\". Details: \"[{'message': 'Too many concurrent requests for user.', 'domain': 'global', 'reason': 'rateLimitExceeded'}]\">\n",
      "Failed to fetch message envelope 196f20fc459720a2: <HttpError 429 when requesting https://gmail.googleapis.com/gmail/v1/users/me/messages/196f20fc459720a2?format=metadata&metadataHeaders=From&metadataHeaders=To&metadataHeaders=Subject&metadataHeaders=Date&metadataHeaders=Message-ID&alt=json returned \"Too many concurrent requests for user.\". Details: \"[{'message': 'Too many concurrent requests for user.', 'domain': 'global', 'reason': 'rateLimitExceeded'}]\">\n",
      "Failed to fetch message envelope 196f1135e1478ba9: <HttpError 429 when requesting https://gmail.googleapis.com/gmail/v1/users/me/messages/196f1135e1478ba9?format=metadata&metadataHeaders=From&metadataHeaders=To&metadataHeaders=Subject&metadataHeaders=Date&metadataHeaders=Message-ID&alt=json returned \"Too many concurrent requests for user.\". Details: \"[{'message': 'Too many concurrent requests for user.', 'domain': 'global', 'reason': 'rateLimitExceeded'}]\">\n",
      "Failed to fetch message envelope 196f0bc6ff255d35: <HttpError 429 when requesting https://gmail.googleapis.com/gmail/v1/users/me/messages/196f0bc6ff255d35?format=metadata&metadataHeaders=From&metadataHeaders=To&metadataHeaders=Subject&metadataHeaders=Date&metadataHeaders=Message-ID&alt=json returned \"Too many concurrent requests for user.\". Details: \"[{'message': 'Too many concurrent requests for user.', 'domain': 'global', 'reason': 'rateLimitExceeded'}]\">\n",
      "Failed to fetch message envelope 196f0a5c9a5719df: <HttpError 429 when requesting https://gmail.googleapis.com/gmail/v1/users/me/messages/196f0a5c9a5719df?format=metadata&metadataHeaders=From&metadataHeaders=To&metadataHeaders=Subject&metadataHeaders=Date&metadataHeaders=Message-ID&alt=json returned \"Too many concurrent requests for user.\". Details: \"[{'message': 'Too many concurrent requests for user.', 'domain': 'global', 'reason': 'rateLimitExceeded'}]\">\n",
      "Failed to fetch message envelope 196f08ca6fd692f8: <HttpError 429 when requesting https://gmail.googleapis.com/gmail/v1/users/me/messages/196f08ca6fd692f8?format=metadata&metadataHeaders=From&metadataHeaders=To&metadataHeaders=Subject&metadataHeaders=Date&metadataHeaders=Message-ID&alt=json returned \"Too many concurrent requests for user.\". Details: \"[{'message': 'Too many concurrent requests for user.', 'domain': 'global', 'reason': 'rateLimitExceeded'}]\">\n",
      "Failed to fetch message envelope 196f023651e05746: <HttpError 429 when requesting https://gmail.googleapis.com/gmail/v1/users/me/messages/196f023651e05746?format=metadata&metadataHeaders=From&metadataHeaders=To&metadataHeaders=Subject&metadataHeaders=Date&metadataHeaders=Message-ID&alt=json returned \"Too many concurrent requests for user.\". Details: \"[{'message': 'Too many concurrent requests for user.', 'domain': 'global', 'reason': 'rateLimitExceeded'}]\">\n",
      "Failed to fetch message envelope 196f014c90a3a43b: <HttpError 429 when requesting https://gmail.googleapis.com/gmail/v1/users/me/messages/196f014c90a3a43b?format=metadata&metadataHeaders=From&metadataHeaders=To&metadataHeaders=Subject&metadataHeaders=Date&metadataHeaders=Message-ID&alt=json returned \"Too many concurrent requests for user.\". Details: \"[{'message': 'Too many concurrent requests for user.', 'domain': 'global', 'reason': 'rateLimitExceeded'}]\">\n",
      "Failed to fetch message envelope 196efea805b86fc9: <HttpError 429 when requesting https://gmail.googleapis.com/gmail/v1/users/me/messages/196efea805b86fc9?format=metadata&metadataHeaders=From&metadataHeaders=To&metadataHeaders=Subject&metadataHeaders=Date&metadataHeaders=Message-ID&alt=json returned \"Too many concurrent requests for user.\". Details: \"[{'message': 'Too many concurrent requests for user.', 'domain': 'global', 'reason': 'rateLimitExceeded'}]\">\n",
      "Failed to fetch message envelope 196ef83947def350: <HttpError 429 when requesting https://gmail.googleapis.com/gmail/v1/users/me/messages/196ef83947def350?format=metadata&metadataHeaders=From&metadataHeaders=To&metadataHeaders=Subject&metadataHeaders=Date&metadataHeaders=Message-ID&alt=json returned \"Too many concurrent requests for user.\". Details: \"[{'message': 'Too many concurrent requests for user.', 'domain': 'global', 'reason': 'rateLimitExceeded'}]\">\n",
      "Failed to fetch message envelope 196ef6863b31a4bd: <HttpError 429 when requesting https://gmail.googleapis.com/gmail/v1/users/me/messages/196ef6863b31a4bd?format=metadata&metadataHeaders=From&metadataHeaders=To&metadataHeaders=Subject&metadataHeaders=Date&metadataHeaders=Message-ID&alt=json returned \"Too many concurrent requests for user.\". Details: \"[{'message': 'Too many concurrent requests for user.', 'domain': 'global', 'reason': 'rateLimitExceeded'}]\">\n",
      "Failed to fetch message envelope 196ef56279448467: <HttpError 429 when requesting https://gmail.googleapis.com/gmail/v1/users/me/messages/196ef56279448467?format=metadata&metadataHeaders=From&metadataHeaders=To&metadataHeaders=Subject&metadataHeaders=Date&metadataHeaders=Message-ID&alt=json returned \"Too many concurrent requests for user.\". Details: \"[{'message': 'Too many concurrent requests for user.', 'domain': 'global', 'reason': 'rateLimitExceeded'}]\">\n",
      "Failed to fetch message envelope 196ef5543b8a0313: <HttpError 429 when requesting https://gmail.googleapis.com/gmail/v1/users/me/messages/196ef5543b8a0313?format=metadata&metadataHeaders=From&metadataHeaders=To&metadataHeaders=Subject&metadataHeaders=Date&metadataHeaders=Message-ID&alt=json returned \"Too many concurrent requests for user.\". Details: \"[{'message': 'Too many concurrent requests for user.', 'domain': 'global', 'reason': 'rateLimitExceeded'}]\">\n",
      "Failed to fetch message envelope 196ef075b005a4fc: <HttpError 429 when requesting https://gmail.googleapis.com/gmail/v1/users/me/messages/196ef075b005a4fc?format=metadata&metadataHeaders=From&metadataHeaders=To&metadataHeaders=Subject&metadataHeaders=Date&metadataHeaders=Message-ID&alt=json returned \"Too many concurrent requests for user.\". Details: \"[{'message': 'Too many concurrent requests for user.', 'domain': 'global', 'reason': 'rateLimitExceeded'}]\">\n",
      "Failed to fetch message envelope 196ef06958395ea7: <HttpError 429 when requesting https://gmail.googleapis.com/gmail/v1/users/me/messages/196ef06958395ea7?format=metadata&metadataHeaders=From&metadataHeaders=To&metadataHeaders=Subject&metadataHeaders=Date&metadataHeaders=Message-ID&alt=json returned \"Too many concurrent requests for user.\". Details: \"[{'message': 'Too many concurrent requests for user.', 'domain': 'global', 'reason': 'rateLimitExceeded'}]\">\n",
      "Failed to fetch message envelope 196eee7f399b1414: <HttpError 429 when requesting https://gmail.googleapis.com/gmail/v1/users/me/messages/196eee7f399b1414?format=metadata&metadataHeaders=From&metadataHeaders=To&metadataHeaders=Subject&metadataHeaders=Date&metadataHeaders=Message-ID&alt=json returned \"Too many concurrent requests for user.\". Details: \"[{'message': 'Too many concurrent requests for user.', 'domain': 'global', 'reason': 'rateLimitExceeded'}]\">\n",
      "Failed to fetch message envelope 196eedfb867d267d: <HttpError 429 when requesting https://gmail.googleapis.com/gmail/v1/users/me/messages/196eedfb867d267d?format=metadata&metadataHeaders=From&metadataHeaders=To&metadataHeaders=Subject&metadataHeaders=Date&metadataHeaders=Message-ID&alt=json returned \"Too many concurrent requests for user.\". Details: \"[{'message': 'Too many concurrent requests for user.', 'domain': 'global', 'reason': 'rateLimitExceeded'}]\">\n",
      "Failed to fetch message envelope 196eedd1cbadcaff: <HttpError 429 when requesting https://gmail.googleapis.com/gmail/v1/users/me/messages/196eedd1cbadcaff?format=metadata&metadataHeaders=From&metadataHeaders=To&metadataHeaders=Subject&metadataHeaders=Date&metadataHeaders=Message-ID&alt=json returned \"Too many concurrent requests for user.\". Details: \"[{'message': 'Too many concurrent requests for user.', 'domain': 'global', 'reason': 'rateLimitExceeded'}]\">\n",
      "Failed to fetch message envelope 196ee806cdf2d62a: <HttpError 429 when requesting https://gmail.googleapis.com/gmail/v1/users/me/messages/196ee806cdf2d62a?format=metadata&metadataHeaders=From&metadataHeaders=To&metadataHeaders=Subject&metadataHeaders=Date&metadataHeaders=Message-ID&alt=json returned \"Too many concurrent requests for user.\". Details: \"[{'message': 'Too many concurrent requests for user.', 'domain': 'global', 'reason': 'rateLimitExceeded'}]\">\n",
      "Failed to fetch message envelope 196ee6f4febb7ada: <HttpError 429 when requesting https://gmail.googleapis.com/gmail/v1/users/me/messages/196ee6f4febb7ada?format=metadata&metadataHeaders=From&metadataHeaders=To&metadataHeaders=Subject&metadataHeaders=Date&metadataHeaders=Message-ID&alt=json returned \"Too many concurrent requests for user.\". Details: \"[{'message': 'Too many concurrent requests for user.', 'domain': 'global', 'reason': 'rateLimitExceeded'}]\">\n",
      "Failed to fetch message envelope 196ee553f9ad5b45: <HttpError 429 when requesting https://gmail.googleapis.com/gmail/v1/users/me/messages/196ee553f9ad5b45?format=metadata&metadataHeaders=From&metadataHeaders=To&metadataHeaders=Subject&metadataHeaders=Date&metadataHeaders=Message-ID&alt=json returned \"Too many concurrent requests for user.\". Details: \"[{'message': 'Too many concurrent requests for user.', 'domain': 'global', 'reason': 'rateLimitExceeded'}]\">\n",
      "Failed to fetch message envelope 196ee46a3a2964af: <HttpError 429 when requesting https://gmail.googleapis.com/gmail/v1/users/me/messages/196ee46a3a2964af?format=metadata&metadataHeaders=From&metadataHeaders=To&metadataHeaders=Subject&metadataHeaders=Date&metadataHeaders=Message-ID&alt=json returned \"Too many concurrent requests for user.\". Details: \"[{'message': 'Too many concurrent requests for user.', 'domain': 'global', 'reason': 'rateLimitExceeded'}]\">\n",
      "Failed to fetch message envelope 196ee4581c7fcdac: <HttpError 429 when requesting https://gmail.googleapis.com/gmail/v1/users/me/messages/196ee4581c7fcdac?format=metadata&metadataHeaders=From&metadataHeaders=To&metadataHeaders=Subject&metadataHeaders=Date&metadataHeaders=Message-ID&alt=json returned \"Too many concurrent requests for user.\". Details: \"[{'message': 'Too many concurrent requests for user.', 'domain': 'global', 'reason': 'rateLimitExceeded'}]\">\n",
      "Failed to fetch message envelope 196ee41d146bea1d: <HttpError 429 when requesting https://gmail.googleapis.com/gmail/v1/users/me/messages/196ee41d146bea1d?format=metadata&metadataHeaders=From&metadataHeaders=To&metadataHeaders=Subject&metadataHeaders=Date&metadataHeaders=Message-ID&alt=json returned \"Too many concurrent requests for user.\". Details: \"[{'message': 'Too many concurrent requests for user.', 'domain': 'global', 'reason': 'rateLimitExceeded'}]\">\n",
      "Failed to fetch message envelope 196ee2c445d66e30: <HttpError 429 when requesting https://gmail.googleapis.com/gmail/v1/users/me/messages/196ee2c445d66e30?format=metadata&metadataHeaders=From&metadataHeaders=To&metadataHeaders=Subject&metadataHeaders=Date&metadataHeaders=Message-ID&alt=json returned \"Too many concurrent requests for user.\". Details: \"[{'message': 'Too many concurrent requests for user.', 'domain': 'global', 'reason': 'rateLimitExceeded'}]\">\n",
      "Failed to fetch message envelope 196ede9df3cd457e: <HttpError 429 when requesting https://gmail.googleapis.com/gmail/v1/users/me/messages/196ede9df3cd457e?format=metadata&metadataHeaders=From&metadataHeaders=To&metadataHeaders=Subject&metadataHeaders=Date&metadataHeaders=Message-ID&alt=json returned \"Too many concurrent requests for user.\". Details: \"[{'message': 'Too many concurrent requests for user.', 'domain': 'global', 'reason': 'rateLimitExceeded'}]\">\n",
      "Failed to fetch message envelope 196edd7fd240baac: <HttpError 429 when requesting https://gmail.googleapis.com/gmail/v1/users/me/messages/196edd7fd240baac?format=metadata&metadataHeaders=From&metadataHeaders=To&metadataHeaders=Subject&metadataHeaders=Date&metadataHeaders=Message-ID&alt=json returned \"Too many concurrent requests for user.\". Details: \"[{'message': 'Too many concurrent requests for user.', 'domain': 'global', 'reason': 'rateLimitExceeded'}]\">\n",
      "Failed to fetch message envelope 196edd66f4613917: <HttpError 429 when requesting https://gmail.googleapis.com/gmail/v1/users/me/messages/196edd66f4613917?format=metadata&metadataHeaders=From&metadataHeaders=To&metadataHeaders=Subject&metadataHeaders=Date&metadataHeaders=Message-ID&alt=json returned \"Too many concurrent requests for user.\". Details: \"[{'message': 'Too many concurrent requests for user.', 'domain': 'global', 'reason': 'rateLimitExceeded'}]\">\n",
      "Failed to fetch message envelope 196efea805b86fc9: <HttpError 429 when requesting https://gmail.googleapis.com/gmail/v1/users/me/messages/196efea805b86fc9?format=metadata&metadataHeaders=From&metadataHeaders=To&metadataHeaders=Subject&metadataHeaders=Date&metadataHeaders=Message-ID&alt=json returned \"Too many concurrent requests for user.\". Details: \"[{'message': 'Too many concurrent requests for user.', 'domain': 'global', 'reason': 'rateLimitExceeded'}]\">\n",
      "Failed to fetch message envelope 196ef83947def350: <HttpError 429 when requesting https://gmail.googleapis.com/gmail/v1/users/me/messages/196ef83947def350?format=metadata&metadataHeaders=From&metadataHeaders=To&metadataHeaders=Subject&metadataHeaders=Date&metadataHeaders=Message-ID&alt=json returned \"Too many concurrent requests for user.\". Details: \"[{'message': 'Too many concurrent requests for user.', 'domain': 'global', 'reason': 'rateLimitExceeded'}]\">\n",
      "Failed to fetch message envelope 196ef6863b31a4bd: <HttpError 429 when requesting https://gmail.googleapis.com/gmail/v1/users/me/messages/196ef6863b31a4bd?format=metadata&metadataHeaders=From&metadataHeaders=To&metadataHeaders=Subject&metadataHeaders=Date&metadataHeaders=Message-ID&alt=json returned \"Too many concurrent requests for user.\". Details: \"[{'message': 'Too many concurrent requests for user.', 'domain': 'global', 'reason': 'rateLimitExceeded'}]\">\n",
      "Failed to fetch message envelope 196ef56279448467: <HttpError 429 when requesting https://gmail.googleapis.com/gmail/v1/users/me/messages/196ef56279448467?format=metadata&metadataHeaders=From&metadataHeaders=To&metadataHeaders=Subject&metadataHeaders=Date&metadataHeaders=Message-ID&alt=json returned \"Too many concurrent requests for user.\". Details: \"[{'message': 'Too many concurrent requests for user.', 'domain': 'global', 'reason': 'rateLimitExceeded'}]\">\n",
      "Failed to fetch message envelope 196ef5543b8a0313: <HttpError 429 when requesting https://gmail.googleapis.com/gmail/v1/users/me/messages/196ef5543b8a0313?format=metadata&metadataHeaders=From&metadataHeaders=To&metadataHeaders=Subject&metadataHeaders=Date&metadataHeaders=Message-ID&alt=json returned \"Too many concurrent requests for user.\". Details: \"[{'message': 'Too many concurrent requests for user.', 'domain': 'global', 'reason': 'rateLimitExceeded'}]\">\n",
      "Failed to fetch message envelope 196ef075b005a4fc: <HttpError 429 when requesting https://gmail.googleapis.com/gmail/v1/users/me/messages/196ef075b005a4fc?format=metadata&metadataHeaders=From&metadataHeaders=To&metadataHeaders=Subject&metadataHeaders=Date&metadataHeaders=Message-ID&alt=json returned \"Too many concurrent requests for user.\". Details: \"[{'message': 'Too many concurrent requests for user.', 'domain': 'global', 'reason': 'rateLimitExceeded'}]\">\n",
      "Failed to fetch message envelope 196ef06958395ea7: <HttpError 429 when requesting https://gmail.googleapis.com/gmail/v1/users/me/messages/196ef06958395ea7?format=metadata&metadataHeaders=From&metadataHeaders=To&metadataHeaders=Subject&metadataHeaders=Date&metadataHeaders=Message-ID&alt=json returned \"Too many concurrent requests for user.\". Details: \"[{'message': 'Too many concurrent requests for user.', 'domain': 'global', 'reason': 'rateLimitExceeded'}]\">\n",
      "Failed to fetch message envelope 196eee7f399b1414: <HttpError 429 when requesting https://gmail.googleapis.com/gmail/v1/users/me/messages/196eee7f399b1414?format=metadata&metadataHeaders=From&metadataHeaders=To&metadataHeaders=Subject&metadataHeaders=Date&metadataHeaders=Message-ID&alt=json returned \"Too many concurrent requests for user.\". Details: \"[{'message': 'Too many concurrent requests for user.', 'domain': 'global', 'reason': 'rateLimitExceeded'}]\">\n",
      "Failed to fetch message envelope 196eedfb867d267d: <HttpError 429 when requesting https://gmail.googleapis.com/gmail/v1/users/me/messages/196eedfb867d267d?format=metadata&metadataHeaders=From&metadataHeaders=To&metadataHeaders=Subject&metadataHeaders=Date&metadataHeaders=Message-ID&alt=json returned \"Too many concurrent requests for user.\". Details: \"[{'message': 'Too many concurrent requests for user.', 'domain': 'global', 'reason': 'rateLimitExceeded'}]\">\n",
      "Failed to fetch message envelope 196eedd1cbadcaff: <HttpError 429 when requesting https://gmail.googleapis.com/gmail/v1/users/me/messages/196eedd1cbadcaff?format=metadata&metadataHeaders=From&metadataHeaders=To&metadataHeaders=Subject&metadataHeaders=Date&metadataHeaders=Message-ID&alt=json returned \"Too many concurrent requests for user.\". Details: \"[{'message': 'Too many concurrent requests for user.', 'domain': 'global', 'reason': 'rateLimitExceeded'}]\">\n",
      "Failed to fetch message envelope 196ee806cdf2d62a: <HttpError 429 when requesting https://gmail.googleapis.com/gmail/v1/users/me/messages/196ee806cdf2d62a?format=metadata&metadataHeaders=From&metadataHeaders=To&metadataHeaders=Subject&metadataHeaders=Date&metadataHeaders=Message-ID&alt=json returned \"Too many concurrent requests for user.\". Details: \"[{'message': 'Too many concurrent requests for user.', 'domain': 'global', 'reason': 'rateLimitExceeded'}]\">\n",
      "Failed to fetch message envelope 196ee6f4febb7ada: <HttpError 429 when requesting https://gmail.googleapis.com/gmail/v1/users/me/messages/196ee6f4febb7ada?format=metadata&metadataHeaders=From&metadataHeaders=To&metadataHeaders=Subject&metadataHeaders=Date&metadataHeaders=Message-ID&alt=json returned \"Too many concurrent requests for user.\". Details: \"[{'message': 'Too many concurrent requests for user.', 'domain': 'global', 'reason': 'rateLimitExceeded'}]\">\n",
      "Failed to fetch message envelope 196ee553f9ad5b45: <HttpError 429 when requesting https://gmail.googleapis.com/gmail/v1/users/me/messages/196ee553f9ad5b45?format=metadata&metadataHeaders=From&metadataHeaders=To&metadataHeaders=Subject&metadataHeaders=Date&metadataHeaders=Message-ID&alt=json returned \"Too many concurrent requests for user.\". Details: \"[{'message': 'Too many concurrent requests for user.', 'domain': 'global', 'reason': 'rateLimitExceeded'}]\">\n",
      "Failed to fetch message envelope 196ee46a3a2964af: <HttpError 429 when requesting https://gmail.googleapis.com/gmail/v1/users/me/messages/196ee46a3a2964af?format=metadata&metadataHeaders=From&metadataHeaders=To&metadataHeaders=Subject&metadataHeaders=Date&metadataHeaders=Message-ID&alt=json returned \"Too many concurrent requests for user.\". Details: \"[{'message': 'Too many concurrent requests for user.', 'domain': 'global', 'reason': 'rateLimitExceeded'}]\">\n",
      "Failed to fetch message envelope 196ee4581c7fcdac: <HttpError 429 when requesting https://gmail.googleapis.com/gmail/v1/users/me/messages/196ee4581c7fcdac?format=metadata&metadataHeaders=From&metadataHeaders=To&metadataHeaders=Subject&metadataHeaders=Date&metadataHeaders=Message-ID&alt=json returned \"Too many concurrent requests for user.\". Details: \"[{'message': 'Too many concurrent requests for user.', 'domain': 'global', 'reason': 'rateLimitExceeded'}]\">\n",
      "Failed to fetch message envelope 196ee41d146bea1d: <HttpError 429 when requesting https://gmail.googleapis.com/gmail/v1/users/me/messages/196ee41d146bea1d?format=metadata&metadataHeaders=From&metadataHeaders=To&metadataHeaders=Subject&metadataHeaders=Date&metadataHeaders=Message-ID&alt=json returned \"Too many concurrent requests for user.\". Details: \"[{'message': 'Too many concurrent requests for user.', 'domain': 'global', 'reason': 'rateLimitExceeded'}]\">\n",
      "Failed to fetch message envelope 196ee2c445d66e30: <HttpError 429 when requesting https://gmail.googleapis.com/gmail/v1/users/me/messages/196ee2c445d66e30?format=metadata&metadataHeaders=From&metadataHeaders=To&metadataHeaders=Subject&metadataHeaders=Date&metadataHeaders=Message-ID&alt=json returned \"Too many concurrent requests for user.\". Details: \"[{'message': 'Too many concurrent requests for user.', 'domain': 'global', 'reason': 'rateLimitExceeded'}]\">\n",
      "Failed to fetch message envelope 196ede9df3cd457e: <HttpError 429 when requesting https://gmail.googleapis.com/gmail/v1/users/me/messages/196ede9df3cd457e?format=metadata&metadataHeaders=From&metadataHeaders=To&metadataHeaders=Subject&metadataHeaders=Date&metadataHeaders=Message-ID&alt=json returned \"Too many concurrent requests for user.\". Details: \"[{'message': 'Too many concurrent requests for user.', 'domain': 'global', 'reason': 'rateLimitExceeded'}]\">\n",
      "Failed to fetch message envelope 196edd7fd240baac: <HttpError 429 when requesting https://gmail.googleapis.com/gmail/v1/users/me/messages/196edd7fd240baac?format=metadata&metadataHeaders=From&metadataHeaders=To&metadataHeaders=Subject&metadataHeaders=Date&metadataHeaders=Message-ID&alt=json returned \"Too many concurrent requests for user.\". Details: \"[{'message': 'Too many concurrent requests for user.', 'domain': 'global', 'reason': 'rateLimitExceeded'}]\">\n",
      "Failed to fetch message envelope 196edd66f4613917: <HttpError 429 when requesting https://gmail.googleapis.com/gmail/v1/users/me/messages/196edd66f4613917?format=metadata&metadataHeaders=From&metadataHeaders=To&metadataHeaders=Subject&metadataHeaders=Date&metadataHeaders=Message-ID&alt=json returned \"Too many concurrent requests for user.\". Details: \"[{'message': 'Too many concurrent requests for user.', 'domain': 'global', 'reason': 'rateLimitExceeded'}]\">\n"
     ]
    },
    {
     "name": "stdout",
     "output_type": "stream",
     "text": [
      "fetch_envelopes: 100 emails in 1.03 seconds\n",
      "\n",
      "Sample envelope data:\n",
      "1. From: Eric Busboom <eric.busboom@jointheleague.org>\n",
      "   Subject: Re: Brix S Kepler's Law Summer Python Project\n",
      "   Date: Fri, 23 May 2025 16:58:13 -0700\n",
      "\n",
      "2. From: Google Ads <ads-account-noreply@google.com>\n",
      "   Subject: Your quarterly Security Suggestions, (Wintriss Tec\n",
      "   Date: Fri, 23 May 2025 15:55:38 -0700\n",
      "\n",
      "3. From: Jed Stumpf <jed.stumpf@jointheleague.org>\n",
      "   Subject: Re: Teaching Programming\n",
      "   Date: Fri, 23 May 2025 15:53:55 -0700\n",
      "\n"
     ]
    }
   ],
   "source": [
    "import time\n",
    "\n",
    "# Test performance of optimized fetch_envelopes\n",
    "with app.app_context():\n",
    "    gmail = Gmail(app, user.id)\n",
    "    \n",
    "    # Test fetch_envelopes performance with smaller batches\n",
    "    print(\"Testing optimized fetch_envelopes (smaller batches)...\")\n",
    "    start_time = time.time()\n",
    "    envelopes = gmail.fetch_envelopes(max_results=100)\n",
    "    envelope_time = time.time() - start_time\n",
    "    \n",
    "    print(f\"fetch_envelopes: {len(envelopes)} emails in {envelope_time:.2f} seconds\")\n",
    "    \n",
    "    # Show some sample data\n",
    "    print(\"\\nSample envelope data:\")\n",
    "    for i, env in enumerate(envelopes[:3]):\n",
    "        print(f\"{i+1}. From: {env.sender[:50]}\")\n",
    "        print(f\"   Subject: {env.subject[:50]}\")\n",
    "        print(f\"   Date: {env.date_str}\")\n",
    "        print()"
   ]
  },
  {
   "cell_type": "code",
   "execution_count": null,
   "id": "28176b2e",
   "metadata": {},
   "outputs": [],
   "source": []
  },
  {
   "cell_type": "code",
   "execution_count": 8,
   "id": "201a7bd9",
   "metadata": {},
   "outputs": [
    {
     "name": "stdout",
     "output_type": "stream",
     "text": [
      "User: <User eric.busboom@jointheleague.org>\n",
      "User ID: 1\n",
      "Has access token: True\n",
      "Has refresh token: False\n",
      "Access token length: 222\n",
      "Access token starts with: ya29.a0AW4XtxiTfC1Rd...\n",
      "✅ Successfully created Gmail service\n",
      "✅ API call successful - Email: eric.busboom@jointheleague.org\n"
     ]
    }
   ],
   "source": [
    "# Debug authentication issues\n",
    "import json\n",
    "from datetime import datetime\n",
    "\n",
    "with app.app_context():\n",
    "    user = get_user_by_email(app, '')\n",
    "    print(f\"User: {user}\")\n",
    "    print(f\"User ID: {user.id if user else 'None'}\")\n",
    "    print(f\"Has access token: {bool(user.access_token if user else False)}\")\n",
    "    print(f\"Has refresh token: {bool(user.refresh_token if user else False)}\")\n",
    "    \n",
    "    if user and user.access_token:\n",
    "        print(f\"Access token length: {len(user.access_token)}\")\n",
    "        print(f\"Access token starts with: {user.access_token[:20]}...\")\n",
    "        \n",
    "        # Try to get Gmail service to see if credentials work\n",
    "        try:\n",
    "            gmail = Gmail(app, user.id)\n",
    "            service = gmail._get_service()\n",
    "            print(\"✅ Successfully created Gmail service\")\n",
    "            \n",
    "            # Try a simple API call\n",
    "            profile = service.users().getProfile(userId='me').execute()\n",
    "            print(f\"✅ API call successful - Email: {profile.get('emailAddress')}\")\n",
    "            \n",
    "        except Exception as e:\n",
    "            print(f\"❌ Error creating service or making API call: {e}\")\n",
    "            print(f\"Error type: {type(e).__name__}\")\n",
    "    else:\n",
    "        print(\"❌ No user found or missing tokens\")"
   ]
  },
  {
   "cell_type": "code",
   "execution_count": 9,
   "id": "da860c3b",
   "metadata": {},
   "outputs": [
    {
     "name": "stdout",
     "output_type": "stream",
     "text": [
      "Testing fetch_envelopes with detailed error handling...\n",
      "✅ Success: 10 envelopes fetched in 0.20 seconds\n",
      "\n",
      "Sample envelope:\n",
      "From: Britt Nesheim <brittnesheim@gmail.com>\n",
      "Subject: Re: Brix S Kepler's Law Summer Python Project\n",
      "Date: Fri, 23 May 2025 17:09:51 -0700\n"
     ]
    }
   ],
   "source": [
    "# Test batch request with authentication debugging\n",
    "import time\n",
    "\n",
    "with app.app_context():\n",
    "    gmail = Gmail(app, user.id)\n",
    "    \n",
    "    print(\"Testing fetch_envelopes with detailed error handling...\")\n",
    "    start_time = time.time()\n",
    "    \n",
    "    try:\n",
    "        # Try with a smaller number first\n",
    "        envelopes = gmail.fetch_envelopes(max_results=10)\n",
    "        elapsed = time.time() - start_time\n",
    "        \n",
    "        print(f\"✅ Success: {len(envelopes)} envelopes fetched in {elapsed:.2f} seconds\")\n",
    "        \n",
    "        if envelopes:\n",
    "            print(\"\\nSample envelope:\")\n",
    "            env = envelopes[0]\n",
    "            print(f\"From: {env.sender}\")\n",
    "            print(f\"Subject: {env.subject}\")\n",
    "            print(f\"Date: {env.date_str}\")\n",
    "        \n",
    "    except Exception as e:\n",
    "        elapsed = time.time() - start_time\n",
    "        print(f\"❌ Error after {elapsed:.2f} seconds: {e}\")\n",
    "        print(f\"Error type: {type(e).__name__}\")\n",
    "        \n",
    "        # Print more details if it's a Google API error\n",
    "        if hasattr(e, 'resp'):\n",
    "            print(f\"HTTP Status: {e.resp.status}\")\n",
    "            print(f\"Response content: {e.content.decode('utf-8') if hasattr(e, 'content') else 'No content'}\")\n",
    "        \n",
    "        import traceback\n",
    "        print(\"\\nFull traceback:\")\n",
    "        print(traceback.format_exc())"
   ]
  },
  {
   "cell_type": "code",
   "execution_count": 10,
   "id": "17994af2",
   "metadata": {},
   "outputs": [
    {
     "name": "stderr",
     "output_type": "stream",
     "text": [
      "Failed to find email envelopes for user 1: The credentials do not contain the necessary fields need to refresh the access token. You must specify refresh_token, token_uri, client_id, and client_secret.\n"
     ]
    },
    {
     "name": "stdout",
     "output_type": "stream",
     "text": [
      "\n",
      "Testing 50 emails...\n",
      "✅ Success: 0 envelopes in 0.15s (0.0 emails/sec)\n",
      "\n",
      "Testing 100 emails...\n"
     ]
    },
    {
     "name": "stderr",
     "output_type": "stream",
     "text": [
      "Failed to find email envelopes for user 1: The credentials do not contain the necessary fields need to refresh the access token. You must specify refresh_token, token_uri, client_id, and client_secret.\n",
      "Failed to find email envelopes for user 1: The credentials do not contain the necessary fields need to refresh the access token. You must specify refresh_token, token_uri, client_id, and client_secret.\n",
      "Failed to find email envelopes for user 1: The credentials do not contain the necessary fields need to refresh the access token. You must specify refresh_token, token_uri, client_id, and client_secret.\n"
     ]
    },
    {
     "name": "stdout",
     "output_type": "stream",
     "text": [
      "✅ Success: 0 envelopes in 0.07s (0.0 emails/sec)\n",
      "\n",
      "Testing 200 emails...\n",
      "✅ Success: 0 envelopes in 0.06s (0.0 emails/sec)\n"
     ]
    }
   ],
   "source": [
    "# Test with different batch sizes to find the sweet spot\n",
    "with app.app_context():\n",
    "    gmail = Gmail(app, user.id)\n",
    "    \n",
    "    for test_size in [50, 100, 200]:\n",
    "        print(f\"\\nTesting {test_size} emails...\")\n",
    "        start_time = time.time()\n",
    "        \n",
    "        try:\n",
    "            envelopes = gmail.fetch_envelopes(max_results=test_size)\n",
    "            elapsed = time.time() - start_time\n",
    "            rate = len(envelopes) / elapsed if elapsed > 0 else 0\n",
    "            \n",
    "            print(f\"✅ Success: {len(envelopes)} envelopes in {elapsed:.2f}s ({rate:.1f} emails/sec)\")\n",
    "            \n",
    "        except Exception as e:\n",
    "            elapsed = time.time() - start_time\n",
    "            print(f\"❌ Failed after {elapsed:.2f}s: {e}\")\n",
    "            break"
   ]
  },
  {
   "cell_type": "code",
   "execution_count": null,
   "id": "c9e0b84e",
   "metadata": {},
   "outputs": [
    {
     "name": "stdout",
     "output_type": "stream",
     "text": [
      "Current user status:\n",
      "- Has access token: True\n",
      "- Has refresh token: False\n",
      "\n",
      "⚠️  ISSUE: User has access token but no refresh token!\n",
      "This means the token will expire and cannot be refreshed.\n",
      "\n",
      "SOLUTION: User needs to re-authenticate to get a refresh token.\n",
      "Visit: http://localhost:5000/reauth\n"
     ]
    }
   ],
   "source": []
  },
  {
   "cell_type": "code",
   "execution_count": null,
   "id": "e6431e4b",
   "metadata": {},
   "outputs": [],
   "source": []
  }
 ],
 "metadata": {
  "kernelspec": {
   "display_name": ".venv",
   "language": "python",
   "name": "python3"
  },
  "language_info": {
   "codemirror_mode": {
    "name": "ipython",
    "version": 3
   },
   "file_extension": ".py",
   "mimetype": "text/x-python",
   "name": "python",
   "nbconvert_exporter": "python",
   "pygments_lexer": "ipython3",
   "version": "3.13.3"
  }
 },
 "nbformat": 4,
 "nbformat_minor": 5
}
